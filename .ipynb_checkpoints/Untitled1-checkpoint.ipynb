{
 "cells": [
  {
   "cell_type": "code",
   "execution_count": 3,
   "id": "6c7797d0-c3a5-4db5-b89f-844c5b417099",
   "metadata": {},
   "outputs": [
    {
     "ename": "NameError",
     "evalue": "name 'entropy' is not defined",
     "output_type": "error",
     "traceback": [
      "\u001b[1;31m---------------------------------------------------------------------------\u001b[0m",
      "\u001b[1;31mNameError\u001b[0m                                 Traceback (most recent call last)",
      "Cell \u001b[1;32mIn[3], line 14\u001b[0m\n\u001b[0;32m     12\u001b[0m df \u001b[38;5;241m=\u001b[39m pd\u001b[38;5;241m.\u001b[39mDataFrame(data)\n\u001b[0;32m     13\u001b[0m \u001b[38;5;66;03m# Genel entropiyi tekrar hesapla\u001b[39;00m\n\u001b[1;32m---> 14\u001b[0m total_entropy \u001b[38;5;241m=\u001b[39m entropy\n\u001b[0;32m     15\u001b[0m \u001b[38;5;66;03m# \"Hava\" özelliğine göre alt kümeleri oluştur ve entropilerini hesapla\u001b[39;00m\n\u001b[0;32m     16\u001b[0m hava_groups \u001b[38;5;241m=\u001b[39m df\u001b[38;5;241m.\u001b[39mgroupby(\u001b[38;5;124m\"\u001b[39m\u001b[38;5;124mHava\u001b[39m\u001b[38;5;124m\"\u001b[39m)[\u001b[38;5;124m\"\u001b[39m\u001b[38;5;124mPikniğe Gidildi mi?\u001b[39m\u001b[38;5;124m\"\u001b[39m]\n",
      "\u001b[1;31mNameError\u001b[0m: name 'entropy' is not defined"
     ]
    }
   ],
   "source": [
    "import math\n",
    "import pandas as pd\n",
    "# Veriler\n",
    "data = {\n",
    "    \"Hava\": [\"Güneşli\", \"Güneşli\", \"Yağmurlu\", \"Güneşli\"],\n",
    "    \"Nem\": [\"Normal\", \"Yüksek\", \"Yüksek\", \"Yüksek\"],\n",
    "    \"Rüzgar\": [\"Güçlü\", \"Güçlü\", \"Güçlü\", \"Güçlü\"],\n",
    "    \"Su sıcaklığı\": [\"Ilık\", \"Ilık\", \"Ilık\", \"Soğuk\"],\n",
    "    \"Pikniğe Gidildi mi?\": [\"Evet\", \"Evet\", \"Hayır\", \"Evet\"]\n",
    "}\n",
    "\n",
    "df = pd.DataFrame(data)\n",
    "# Genel entropiyi tekrar hesapla\n",
    "total_entropy = entropy\n",
    "# \"Hava\" özelliğine göre alt kümeleri oluştur ve entropilerini hesapla\n",
    "hava_groups = df.groupby(\"Hava\")[\"Pikniğe Gidildi mi?\"]\n",
    "group_entropies = {}\n",
    "group_sizes = {}\n",
    "for group, values in hava_groups:\n",
    "    # Sınıf frekanslarını bul\n",
    "    class_counts = values.value_counts()\n",
    "    total_group = len(values)\n",
    "    group_sizes[group] = total_group\n",
    " \n",
    "    # Sınıf olasılıklarını bul\n",
    "    probabilities = class_counts / total_group\n",
    "    \n",
    "    # Shannon Entropisi\n",
    "    group_entropies[group] = -sum(probabilities * probabilities.apply(lambda p: math.log2(p)))\n",
    "\n",
    "# Bilgi kazancını hesapla\n",
    "weighted_entropy = sum(\n",
    "    (group_sizes[group] / len(df)) * group_entropies[group] for group in group_entropies\n",
    ")\n",
    "information_gain = total_entropy - weighted_entropy\n",
    "\n",
    "total_entropy, group_entropies, information_gain\n"
   ]
  },
  {
   "cell_type": "markdown",
   "id": "bcfa7387-fe39-4b93-a18b-eb13aaa99f1f",
   "metadata": {},
   "source": [
    "### "
   ]
  },
  {
   "cell_type": "code",
   "execution_count": null,
   "id": "c5b87b70-644a-4eab-b286-ae9e4043e129",
   "metadata": {},
   "outputs": [],
   "source": []
  },
  {
   "cell_type": "code",
   "execution_count": null,
   "id": "b1430905-d381-45cf-9338-1ae9946c1f49",
   "metadata": {},
   "outputs": [],
   "source": []
  }
 ],
 "metadata": {
  "kernelspec": {
   "display_name": "Python 3 (ipykernel)",
   "language": "python",
   "name": "python3"
  },
  "language_info": {
   "codemirror_mode": {
    "name": "ipython",
    "version": 3
   },
   "file_extension": ".py",
   "mimetype": "text/x-python",
   "name": "python",
   "nbconvert_exporter": "python",
   "pygments_lexer": "ipython3",
   "version": "3.12.7"
  }
 },
 "nbformat": 4,
 "nbformat_minor": 5
}
